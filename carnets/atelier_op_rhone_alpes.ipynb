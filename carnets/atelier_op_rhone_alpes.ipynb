{
 "cells": [
  {
   "cell_type": "markdown",
   "metadata": {},
   "source": [
    "# Traitement des données de la base des syndicaux patronaux Rhône-Alpes"
   ]
  },
  {
   "cell_type": "markdown",
   "metadata": {},
   "source": [
    "## Préparation"
   ]
  },
  {
   "cell_type": "markdown",
   "metadata": {},
   "source": [
    "Le fichier de données est dans le dossier **data**. Le notebook est dans le dossier **carnets**. Il faut prendre en compte ces localisations des fichiers pour les chemins à indiquer dans les scripts.\n",
    "\n",
    "\n",
    "Importation des modules nécessaires"
   ]
  },
  {
   "cell_type": "code",
   "execution_count": 1,
   "metadata": {},
   "outputs": [],
   "source": [
    "import pandas as pd\n",
    "import os\n",
    "from pathlib import Path\n",
    "import matplotlib.pyplot as plt\n",
    "import openpyxl\n"
   ]
  },
  {
   "cell_type": "markdown",
   "metadata": {},
   "source": [
    "Affichage des graphiques dans le notebook"
   ]
  },
  {
   "cell_type": "code",
   "execution_count": 2,
   "metadata": {},
   "outputs": [],
   "source": [
    "%matplotlib inline"
   ]
  },
  {
   "cell_type": "markdown",
   "metadata": {},
   "source": [
    "Lecture du fichier contenant les données. "
   ]
  },
  {
   "cell_type": "code",
   "execution_count": 3,
   "metadata": {},
   "outputs": [],
   "source": [
    "p = Path(\"../data/syndicats_patronaux_rhonealpes_a_traiter.csv\")"
   ]
  },
  {
   "cell_type": "code",
   "execution_count": 4,
   "metadata": {},
   "outputs": [],
   "source": [
    "df = pd.read_csv(p, sep=\"|\")"
   ]
  },
  {
   "cell_type": "markdown",
   "metadata": {},
   "source": [
    "liste des colonnes"
   ]
  },
  {
   "cell_type": "code",
   "execution_count": 5,
   "metadata": {},
   "outputs": [
    {
     "data": {
      "text/plain": [
       "Index(['activite_branches', 'activite_branches_reduite', 'activite_insee_1949',\n",
       "       'activite_sgf_1936', 'adresse', 'affiliation', 'annee_creation',\n",
       "       'annee_disparition', 'annee_fusion', 'annuaire_1890', 'annuaire_1897',\n",
       "       'annuaire_1914', 'caran', 'cas_problematique', 'Cgpf_1930',\n",
       "       'cgpf_groupe', 'chgt_dpt', 'chgt_type', 'commerce_en_gros', 'commune',\n",
       "       'cote_dossier', 'cote_registre', 'date_creation', 'date_declaration',\n",
       "       'date_dissolution', 'departement', 'dissolution', 'duree_syndicat',\n",
       "       'effectif_creation', 'effectifs_evolution', 'effectifs_sources',\n",
       "       'fusion', 'id_coac', 'lieu_conservation_dossier',\n",
       "       'lieu_conservation_registre', 'nouvelles', 'numero', 'numero_syndicat',\n",
       "       'numro_synd_absorbant', 'observations', 'pk', 'present_01_01_1890',\n",
       "       'present_01_01_1900', 'present_01_01_1914', 'present_01_01_1920',\n",
       "       'present_01_01_1926', 'present_01_01_1930', 'present_01_01_1936',\n",
       "       'present_01_01_1937', 'present_théorique_01_01_1890',\n",
       "       'present_théorique_01_01_1900', 'present_théorique_01_01_1914',\n",
       "       'present_théorique_01_01_1920', 'present_théorique_01_01_1926',\n",
       "       'present_théorique_01_01_1930', 'present_théorique_01_01_1936',\n",
       "       'present_théorique_01_01_1937', 'section', 'theorique_sect_01_01_1884',\n",
       "       'theorique_sect_01_01_1890', 'theorique_sect_01_01_1900',\n",
       "       'theorique_sect_01_01_1914', 'theorique_sect_01_01_1920',\n",
       "       'theorique_sect_01_01_1926', 'theorique_sect_01_01_1930',\n",
       "       'theorique_sect_01_01_1936', 'theorique_sect_01_01_1937',\n",
       "       'titre_du_syndicat_modifie_1', 'titre_du_syndicat_modifie₂',\n",
       "       'titre_du_syndicat_originel', 'type_syndicat_1', 'type_syndicat2',\n",
       "       'zone_couverte_origine', 'nature_du_syndicat',\n",
       "       'titre_du_syndicat_copie', 'archivage',\n",
       "       'lieu_conservation_registre_copie', 'divers', 'notes', 'activite',\n",
       "       'activite_insee_49_00_000', 'cas_douteux', 'fichier_complement',\n",
       "       'present_theorique_01_01_1946'],\n",
       "      dtype='object')"
      ]
     },
     "execution_count": 5,
     "metadata": {},
     "output_type": "execute_result"
    }
   ],
   "source": [
    "df.columns"
   ]
  },
  {
   "cell_type": "markdown",
   "metadata": {},
   "source": [
    "## Exploration des données"
   ]
  },
  {
   "cell_type": "markdown",
   "metadata": {},
   "source": [
    "### Création d'une distribution des communes"
   ]
  },
  {
   "cell_type": "code",
   "execution_count": 6,
   "metadata": {},
   "outputs": [
    {
     "data": {
      "text/plain": [
       "Lyon                                    568\n",
       "Saint-Étienne                           210\n",
       "Grenoble                                 96\n",
       "Roanne                                   64\n",
       "Annecy                                   58\n",
       "                                       ... \n",
       "saint-Peray                               1\n",
       "La Tronche                                1\n",
       "Meximieux                                 1\n",
       "Montluel                                  1\n",
       "Trévoux\\nNeuville-sur-Sâone (1914)\\n      1\n",
       "Name: commune, Length: 204, dtype: int64"
      ]
     },
     "metadata": {},
     "output_type": "display_data"
    }
   ],
   "source": [
    "df_communes = df['commune'].value_counts()  \n",
    "display(df_communes)\n",
    "# df_communes.to_csv(\"../distributions/op_ra_commune.csv\", sep=\"|\", header=[\"effectif\"])\n",
    "    "
   ]
  },
  {
   "cell_type": "markdown",
   "metadata": {},
   "source": [
    "### Distribution des titres initiaux des syndicats"
   ]
  },
  {
   "cell_type": "code",
   "execution_count": 7,
   "metadata": {},
   "outputs": [
    {
     "data": {
      "text/plain": [
       "Chambre syndicale de la boulangerie                                                     6\n",
       "Syndicat des patrons coiffeurs de Thonon                                                2\n",
       "Syndicat des cafetiers, hôteliers et restaurateurs de Thizy et du canton                2\n",
       "Syndicat des marchands forains d'Annonay et région                                      2\n",
       "Syndicat général français du moulinage de la soie                                       2\n",
       "                                                                                       ..\n",
       "Union des fabricants de boulonnerie de la Loire                                         1\n",
       "Chambre syndicale des patrons boulangers des cantons de Bois d'Oingt et de Lamure       1\n",
       "chambre syndicale du ciment                                                             1\n",
       "Syndicat des fabricants d'orfévrerie de Lyon et de la région                            1\n",
       "Syndicat des débitants de boissons, restaurateurs, etc., du canton de la Tour-du-Pin    1\n",
       "Name: titre_du_syndicat_originel, Length: 1812, dtype: int64"
      ]
     },
     "execution_count": 7,
     "metadata": {},
     "output_type": "execute_result"
    }
   ],
   "source": [
    "df_titre_originel = df['titre_du_syndicat_originel'].value_counts()\n",
    "df_titre_originel"
   ]
  },
  {
   "cell_type": "markdown",
   "metadata": {},
   "source": [
    "Au lieu de créer les fichiers csv des distributions un par un utilisons une boucle for pour créer une distribution des modalités pour chaque colonne du fichier de données. Les fichiers sont enregistrés dans un répertoire nommé \"distributions\"."
   ]
  },
  {
   "cell_type": "code",
   "execution_count": 10,
   "metadata": {},
   "outputs": [],
   "source": [
    "for col in list(df.columns):\n",
    "    tab_distr = df[col].value_counts()\n",
    "    tab_distr.to_csv(\"../distributions/\"+col+\".csv\", sep=\"|\")\n",
    "    "
   ]
  },
  {
   "cell_type": "markdown",
   "metadata": {},
   "source": [
    "## Nettoyage et restructuration des données"
   ]
  },
  {
   "cell_type": "code",
   "execution_count": null,
   "metadata": {},
   "outputs": [],
   "source": []
  }
 ],
 "metadata": {
  "kernelspec": {
   "display_name": "Py_3.7_atelier",
   "language": "python",
   "name": "py37_gitlab"
  },
  "language_info": {
   "codemirror_mode": {
    "name": "ipython",
    "version": 3
   },
   "file_extension": ".py",
   "mimetype": "text/x-python",
   "name": "python",
   "nbconvert_exporter": "python",
   "pygments_lexer": "ipython3",
   "version": "3.8.3"
  },
  "toc": {
   "base_numbering": 1,
   "nav_menu": {},
   "number_sections": true,
   "sideBar": true,
   "skip_h1_title": false,
   "title_cell": "Table of Contents",
   "title_sidebar": "Contents",
   "toc_cell": false,
   "toc_position": {},
   "toc_section_display": true,
   "toc_window_display": false
  },
  "toc-autonumbering": true,
  "toc-showcode": false,
  "toc-showmarkdowntxt": false,
  "toc-showtags": false
 },
 "nbformat": 4,
 "nbformat_minor": 4
}
